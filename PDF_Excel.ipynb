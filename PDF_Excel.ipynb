{
  "nbformat": 4,
  "nbformat_minor": 0,
  "metadata": {
    "colab": {
      "provenance": [],
      "authorship_tag": "ABX9TyPqmQC482ov1Kr8BmIk04dD",
      "include_colab_link": true
    },
    "kernelspec": {
      "name": "python3",
      "display_name": "Python 3"
    },
    "language_info": {
      "name": "python"
    }
  },
  "cells": [
    {
      "cell_type": "markdown",
      "metadata": {
        "id": "view-in-github",
        "colab_type": "text"
      },
      "source": [
        "<a href=\"https://colab.research.google.com/github/Oluchi-Otuadinma/QuickCode/blob/main/PDF_Excel.ipynb\" target=\"_parent\"><img src=\"https://colab.research.google.com/assets/colab-badge.svg\" alt=\"Open In Colab\"/></a>"
      ]
    },
    {
      "cell_type": "markdown",
      "source": [
        "#Python Script to Extract PDF Content and Save to Excel"
      ],
      "metadata": {
        "id": "u3QYf7ljMTQG"
      }
    },
    {
      "cell_type": "code",
      "execution_count": null,
      "metadata": {
        "id": "STcJdTwHMSbl"
      },
      "outputs": [],
      "source": [
        "pip install pymupdf camelot-py[cv] pandas openpyxl"
      ]
    },
    {
      "cell_type": "code",
      "source": [
        "import fitz  # PyMuPDF\n",
        "import camelot\n",
        "import pandas as pd\n",
        "import re\n",
        "\n",
        "# Set PDF Path\n",
        "pdf_path = \"your_file.pdf\"  # Replace with your PDF path, make sure you keep in the \"\"\n",
        "\n",
        "# Extract Text and Numbers\n",
        "doc = fitz.open(pdf_path)\n",
        "text_blocks = []\n",
        "number_blocks = []\n",
        "\n",
        "for i, page in enumerate(doc):\n",
        "    text = page.get_text()\n",
        "    text_blocks.append({'type': 'text', 'page': i+1, 'content': text})\n",
        "\n",
        "    # Extract numbers using regex (integers or decimals)\n",
        "    numbers = re.findall(r'\\b\\d+(?:\\.\\d+)?\\b', text)\n",
        "    number_blocks.append({'type': 'number', 'page': i+1, 'content': ', '.join(numbers)})\n",
        "\n",
        "# Convert to DataFrames\n",
        "text_df = pd.DataFrame(text_blocks)\n",
        "number_df = pd.DataFrame(number_blocks)\n",
        "\n",
        "# Extract Tables Using Camelot\n",
        "tables = camelot.read_pdf(pdf_path, pages=\"all\", flavor='stream')  # or use flavor='lattice' depending on your border style\n",
        "table_frames = []\n",
        "\n",
        "for i, table in enumerate(tables):\n",
        "    df = table.df\n",
        "    df.insert(0, 'table_id', i+1)\n",
        "    df.insert(0, 'type', 'table')\n",
        "    table_frames.append(df)\n",
        "\n",
        "if table_frames:\n",
        "    tables_df = pd.concat(table_frames, ignore_index=True)\n",
        "else:\n",
        "    tables_df = pd.DataFrame(columns=['type', 'table_id'])\n",
        "\n",
        "# Combine All Extracted Data\n",
        "combined_df = pd.concat([text_df, number_df, tables_df], ignore_index=True, sort=False)\n",
        "\n",
        "# Step 5: Save to Excel (single sheet)\n",
        "combined_df.to_excel(\"extracted_data.xlsx\", index=False)\n"
      ],
      "metadata": {
        "id": "skvS5wJpNghN"
      },
      "execution_count": null,
      "outputs": []
    },
    {
      "cell_type": "markdown",
      "source": [
        "#Output will be \"extracted_data.xlsx\"\n",
        "\n",
        "### It contains:\n",
        "\n",
        "*   Text blocks with page numbers\n",
        "*   Lists of numeric values from each page\n",
        "*   Structured tables (each row labeled as type \"table\")\n"
      ],
      "metadata": {
        "id": "5yYG8HkdOGhM"
      }
    },
    {
      "cell_type": "code",
      "source": [
        "#---Example PDF input---\n",
        "\n",
        "Monthly Report - January\n",
        "\n",
        "Summary:\n",
        "Revenue increased by 12.5% this month.\n",
        "Total Customers: 1,024\n",
        "New Signups: 325\n",
        "\n",
        "Table 1 - Product Sales:\n",
        "| Product | Units Sold | Revenue |\n",
        "|---------|------------|---------|\n",
        "| A       | 120        | 2,400   |\n",
        "| B       | 85         | 1,700   |\n",
        "| C       | 200        | 4,000   |\n",
        "\n",
        "\n",
        "Customer Feedback (Page 2):\n",
        "\n",
        "- “Great service.” — John\n",
        "- “Prices are too high.” — AliceT\n",
        "\n",
        "Table 2 - Complaint Categories:\n",
        "| Category     | Count |\n",
        "|--------------|-------|\n",
        "| Pricing      | 45    |\n",
        "| Shipping     | 23    |\n",
        "| Product Defect | 10  |"
      ],
      "metadata": {
        "id": "pyDOmmuVPw2N"
      },
      "execution_count": null,
      "outputs": []
    },
    {
      "cell_type": "code",
      "source": [
        "#---Expected Output Excel (extracted_data.xlsx)---\n",
        "\n",
        "| type   | page | content                                                                                    | table\\_id | Product | Units Sold | Revenue | Category       | Count |\n",
        "| ------ | ---- | ------------------------------------------------------------------------------------------ | --------- | ------- | ---------- | ------- | -------------- | ----- |\n",
        "| text   | 1    | Monthly Report - January\\n\\nSummary:\\nRevenue increased by 12.5% this month.\\n...          |           |         |            |         |                |       |\n",
        "| number | 1    | 12.5, 1024, 325, 120, 2400, 85, 1700, 200, 4000                                            |           |         |            |         |                |       |\n",
        "| table  |      |                                                                                            | 1         | A       | 120        | 2400    |                |       |\n",
        "| table  |      |                                                                                            | 1         | B       | 85         | 1700    |                |       |\n",
        "| table  |      |                                                                                            | 1         | C       | 200        | 4000    |                |       |\n",
        "| text   | 2    | Customer Feedback (Page 2):\\n\\n- “Great service.” — John\\n- “Prices are too high.” — Alice |           |         |            |         |                |       |\n",
        "| number | 2    | 45, 23, 10                                                                                 |           |         |            |         |                |       |\n",
        "| table  |      |                                                                                            | 2         |         |            |         | Pricing        | 45    |\n",
        "| table  |      |                                                                                            | 2         |         |            |         | Shipping       | 23    |\n",
        "| table  |      |                                                                                            | 2         |         |            |         | Product Defect | 10    |\n"
      ],
      "metadata": {
        "id": "rEyEA7Y8QMUn"
      },
      "execution_count": null,
      "outputs": []
    }
  ]
}